{
  "nbformat": 4,
  "nbformat_minor": 0,
  "metadata": {
    "colab": {
      "name": "convolutional.py",
      "version": "0.3.2",
      "provenance": [],
      "include_colab_link": true
    },
    "kernelspec": {
      "name": "python3",
      "display_name": "Python 3"
    }
  },
  "cells": [
    {
      "cell_type": "markdown",
      "metadata": {
        "id": "view-in-github",
        "colab_type": "text"
      },
      "source": [
        "<a href=\"https://colab.research.google.com/github/Dukihung/BreastCancer.py/blob/idunn/convolutional_py.ipynb\" target=\"_parent\"><img src=\"https://colab.research.google.com/assets/colab-badge.svg\" alt=\"Open In Colab\"/></a>"
      ]
    },
    {
      "metadata": {
        "id": "NMWCYNrUq2NX",
        "colab_type": "code",
        "outputId": "42c469cb-413c-46e6-ec0c-ef7df0ae2431",
        "colab": {
          "base_uri": "https://localhost:8080/",
          "height": 91
        }
      },
      "cell_type": "code",
      "source": [
        "\n",
        "import pandas as pd\n",
        "\n",
        "DataIn = pd.read_csv('https://archive.ics.uci.edu/ml/machine-learning-databases/breast-cancer-wisconsin/wdbc.data', header =None)\n",
        "\n",
        "from sklearn.preprocessing import LabelEncoder \n",
        "\n",
        "#X chua data cua features\n",
        "X = DataIn.loc[:,2:].values\n",
        "\n",
        "#y la target\n",
        "\n",
        "y = DataIn.loc[:,1].values\n",
        "\n",
        "label = LabelEncoder()\n",
        "\n",
        "#sua dang chu ve so\n",
        "\n",
        "y = label.fit_transform(y)\n",
        "\n",
        "label.transform(['M','B'])\n",
        "# tien than la cross valiadatation \n",
        "from sklearn.model_selection import train_test_split\n",
        "\n",
        "X_train, X_test, y_train, y_test = train_test_split(X,y,test_size = 0.2,random_state = 1)\n",
        "\n",
        "#gio can giam chieu du lieu, su dung PCA ,tao 1 pipeline de ket hop 3 object, StandardScaler, PCA va logisctic \n",
        "\n",
        "from sklearn.preprocessing import StandardScaler\n",
        "from sklearn.decomposition import PCA \n",
        "from sklearn.linear_model import LogisticRegression\n",
        "from sklearn.pipeline import Pipeline\n",
        "#de trup cap vao component mahPipeine.named_steps['scl']\n",
        "#set lai parameter mahPipeline.set_params(PCA__n_components = 15, clf__C =0.5)\n",
        "mahPipeline = Pipeline([('scaler',StandardScaler()),('PCA',PCA(n_components=15)),('clf',LogisticRegression(random_state=1))])\n",
        "\n",
        "mahPipeline.fit(X_train,y_train)\n",
        "\n",
        "print('Test Accuracy: %.3f' % mahPipeline.score(X_test, y_test))\n"
      ],
      "execution_count": 0,
      "outputs": [
        {
          "output_type": "stream",
          "text": [
            "Test Accuracy: 0.982\n"
          ],
          "name": "stdout"
        },
        {
          "output_type": "stream",
          "text": [
            "/usr/local/lib/python3.6/dist-packages/sklearn/linear_model/logistic.py:433: FutureWarning: Default solver will be changed to 'lbfgs' in 0.22. Specify a solver to silence this warning.\n",
            "  FutureWarning)\n"
          ],
          "name": "stderr"
        }
      ]
    }
  ]
}